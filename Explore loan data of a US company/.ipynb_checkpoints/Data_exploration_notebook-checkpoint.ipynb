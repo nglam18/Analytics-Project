{
 "cells": [
  {
   "cell_type": "markdown",
   "metadata": {},
   "source": [
    "# Project: Loan Data from Prosper\n",
    "\n",
    "- [1.Introduction](#intro)\n",
    "- [2.Data Wrangling & Cleaning](#wrangling)\n",
    "- [3.Univariate Exploratory Analysis](#unianalysis)\n",
    "- [4.Bivariate Exploratory Analysis](#bianalysis)\n",
    "- [5.Multivariate Exploratory Analysis](#multianalysis)\n",
    "- [6.Regression Analysis](#reanalysis)\n",
    "- [7.Conclusion](#conclusion)"
   ]
  },
  {
   "cell_type": "markdown",
   "metadata": {},
   "source": [
    "<a id='intro'></a>\n",
    "## 1. Introduction\n",
    "> The dataset 'prosperLoanData' contains both background and credit information of borrowers who make loans via Prosper Marketplace. This company Prosper is a San Francisco, California-based company in the peer-to-peer lending industry. The dataset includes approximately 110 000 observations within 81 different features.\n"
   ]
  },
  {
   "cell_type": "markdown",
   "metadata": {},
   "source": [
    "<a id='wrangling'></a>\n",
    "## 2. Data Wrangling & Cleaning"
   ]
  },
  {
   "cell_type": "code",
   "execution_count": 1,
   "metadata": {},
   "outputs": [],
   "source": [
    "# import all packages and set plots to be embedded inline\n",
    "import numpy as np\n",
    "import pandas as pd\n",
    "import matplotlib.pyplot as plt\n",
    "import seaborn as sb\n",
    "\n",
    "%matplotlib inline"
   ]
  },
  {
   "cell_type": "markdown",
   "metadata": {},
   "source": [
    "### 2.1. Load data"
   ]
  },
  {
   "cell_type": "code",
   "execution_count": 2,
   "metadata": {},
   "outputs": [],
   "source": [
    "data = pd.read_csv('prosperLoanData.csv')"
   ]
  },
  {
   "cell_type": "code",
   "execution_count": 3,
   "metadata": {},
   "outputs": [
    {
     "data": {
      "text/html": [
       "<div>\n",
       "<style scoped>\n",
       "    .dataframe tbody tr th:only-of-type {\n",
       "        vertical-align: middle;\n",
       "    }\n",
       "\n",
       "    .dataframe tbody tr th {\n",
       "        vertical-align: top;\n",
       "    }\n",
       "\n",
       "    .dataframe thead th {\n",
       "        text-align: right;\n",
       "    }\n",
       "</style>\n",
       "<table border=\"1\" class=\"dataframe\">\n",
       "  <thead>\n",
       "    <tr style=\"text-align: right;\">\n",
       "      <th></th>\n",
       "      <th>ListingKey</th>\n",
       "      <th>ListingNumber</th>\n",
       "      <th>ListingCreationDate</th>\n",
       "      <th>CreditGrade</th>\n",
       "      <th>Term</th>\n",
       "      <th>LoanStatus</th>\n",
       "      <th>ClosedDate</th>\n",
       "      <th>BorrowerAPR</th>\n",
       "      <th>BorrowerRate</th>\n",
       "      <th>LenderYield</th>\n",
       "      <th>...</th>\n",
       "      <th>LP_ServiceFees</th>\n",
       "      <th>LP_CollectionFees</th>\n",
       "      <th>LP_GrossPrincipalLoss</th>\n",
       "      <th>LP_NetPrincipalLoss</th>\n",
       "      <th>LP_NonPrincipalRecoverypayments</th>\n",
       "      <th>PercentFunded</th>\n",
       "      <th>Recommendations</th>\n",
       "      <th>InvestmentFromFriendsCount</th>\n",
       "      <th>InvestmentFromFriendsAmount</th>\n",
       "      <th>Investors</th>\n",
       "    </tr>\n",
       "  </thead>\n",
       "  <tbody>\n",
       "    <tr>\n",
       "      <th>19680</th>\n",
       "      <td>165635101423340013C0C44</td>\n",
       "      <td>499511</td>\n",
       "      <td>2011-03-25 09:07:59.583000000</td>\n",
       "      <td>NaN</td>\n",
       "      <td>36</td>\n",
       "      <td>Current</td>\n",
       "      <td>NaN</td>\n",
       "      <td>0.16147</td>\n",
       "      <td>0.1399</td>\n",
       "      <td>0.1299</td>\n",
       "      <td>...</td>\n",
       "      <td>-85.28</td>\n",
       "      <td>-147.79</td>\n",
       "      <td>0.00</td>\n",
       "      <td>0.00</td>\n",
       "      <td>0.0</td>\n",
       "      <td>1.0</td>\n",
       "      <td>0</td>\n",
       "      <td>0</td>\n",
       "      <td>0.0</td>\n",
       "      <td>99</td>\n",
       "    </tr>\n",
       "    <tr>\n",
       "      <th>58498</th>\n",
       "      <td>C1A23365335100941118F5D</td>\n",
       "      <td>8937</td>\n",
       "      <td>2006-04-27 04:35:09.783000000</td>\n",
       "      <td>B</td>\n",
       "      <td>36</td>\n",
       "      <td>Completed</td>\n",
       "      <td>2008-11-03 00:00:00</td>\n",
       "      <td>0.16466</td>\n",
       "      <td>0.1575</td>\n",
       "      <td>0.1450</td>\n",
       "      <td>...</td>\n",
       "      <td>-56.03</td>\n",
       "      <td>0.00</td>\n",
       "      <td>0.00</td>\n",
       "      <td>0.00</td>\n",
       "      <td>0.0</td>\n",
       "      <td>1.0</td>\n",
       "      <td>0</td>\n",
       "      <td>0</td>\n",
       "      <td>0.0</td>\n",
       "      <td>10</td>\n",
       "    </tr>\n",
       "    <tr>\n",
       "      <th>15007</th>\n",
       "      <td>6FE634652306676928ED6B6</td>\n",
       "      <td>426108</td>\n",
       "      <td>2009-09-28 14:11:46.563000000</td>\n",
       "      <td>NaN</td>\n",
       "      <td>36</td>\n",
       "      <td>Chargedoff</td>\n",
       "      <td>2011-01-13 00:00:00</td>\n",
       "      <td>0.22287</td>\n",
       "      <td>0.2005</td>\n",
       "      <td>0.1905</td>\n",
       "      <td>...</td>\n",
       "      <td>-52.68</td>\n",
       "      <td>0.00</td>\n",
       "      <td>5453.03</td>\n",
       "      <td>5453.04</td>\n",
       "      <td>0.0</td>\n",
       "      <td>1.0</td>\n",
       "      <td>0</td>\n",
       "      <td>0</td>\n",
       "      <td>0.0</td>\n",
       "      <td>228</td>\n",
       "    </tr>\n",
       "  </tbody>\n",
       "</table>\n",
       "<p>3 rows × 81 columns</p>\n",
       "</div>"
      ],
      "text/plain": [
       "                    ListingKey  ListingNumber            ListingCreationDate  \\\n",
       "19680  165635101423340013C0C44         499511  2011-03-25 09:07:59.583000000   \n",
       "58498  C1A23365335100941118F5D           8937  2006-04-27 04:35:09.783000000   \n",
       "15007  6FE634652306676928ED6B6         426108  2009-09-28 14:11:46.563000000   \n",
       "\n",
       "      CreditGrade  Term  LoanStatus           ClosedDate  BorrowerAPR  \\\n",
       "19680         NaN    36     Current                  NaN      0.16147   \n",
       "58498           B    36   Completed  2008-11-03 00:00:00      0.16466   \n",
       "15007         NaN    36  Chargedoff  2011-01-13 00:00:00      0.22287   \n",
       "\n",
       "       BorrowerRate  LenderYield    ...     LP_ServiceFees  LP_CollectionFees  \\\n",
       "19680        0.1399       0.1299    ...             -85.28            -147.79   \n",
       "58498        0.1575       0.1450    ...             -56.03               0.00   \n",
       "15007        0.2005       0.1905    ...             -52.68               0.00   \n",
       "\n",
       "       LP_GrossPrincipalLoss  LP_NetPrincipalLoss  \\\n",
       "19680                   0.00                 0.00   \n",
       "58498                   0.00                 0.00   \n",
       "15007                5453.03              5453.04   \n",
       "\n",
       "      LP_NonPrincipalRecoverypayments  PercentFunded  Recommendations  \\\n",
       "19680                             0.0            1.0                0   \n",
       "58498                             0.0            1.0                0   \n",
       "15007                             0.0            1.0                0   \n",
       "\n",
       "      InvestmentFromFriendsCount InvestmentFromFriendsAmount Investors  \n",
       "19680                          0                         0.0        99  \n",
       "58498                          0                         0.0        10  \n",
       "15007                          0                         0.0       228  \n",
       "\n",
       "[3 rows x 81 columns]"
      ]
     },
     "execution_count": 3,
     "metadata": {},
     "output_type": "execute_result"
    }
   ],
   "source": [
    "data.sample(3)"
   ]
  },
  {
   "cell_type": "code",
   "execution_count": 4,
   "metadata": {
    "scrolled": true
   },
   "outputs": [
    {
     "data": {
      "text/plain": [
       "(113937, 81)"
      ]
     },
     "execution_count": 4,
     "metadata": {},
     "output_type": "execute_result"
    }
   ],
   "source": [
    "# Check structure of dataset\n",
    "data.shape"
   ]
  },
  {
   "cell_type": "code",
   "execution_count": 5,
   "metadata": {},
   "outputs": [
    {
     "name": "stdout",
     "output_type": "stream",
     "text": [
      "<class 'pandas.core.frame.DataFrame'>\n",
      "RangeIndex: 113937 entries, 0 to 113936\n",
      "Data columns (total 81 columns):\n",
      "ListingKey                             113937 non-null object\n",
      "ListingNumber                          113937 non-null int64\n",
      "ListingCreationDate                    113937 non-null object\n",
      "CreditGrade                            28953 non-null object\n",
      "Term                                   113937 non-null int64\n",
      "LoanStatus                             113937 non-null object\n",
      "ClosedDate                             55089 non-null object\n",
      "BorrowerAPR                            113912 non-null float64\n",
      "BorrowerRate                           113937 non-null float64\n",
      "LenderYield                            113937 non-null float64\n",
      "EstimatedEffectiveYield                84853 non-null float64\n",
      "EstimatedLoss                          84853 non-null float64\n",
      "EstimatedReturn                        84853 non-null float64\n",
      "ProsperRating (numeric)                84853 non-null float64\n",
      "ProsperRating (Alpha)                  84853 non-null object\n",
      "ProsperScore                           84853 non-null float64\n",
      "ListingCategory (numeric)              113937 non-null int64\n",
      "BorrowerState                          108422 non-null object\n",
      "Occupation                             110349 non-null object\n",
      "EmploymentStatus                       111682 non-null object\n",
      "EmploymentStatusDuration               106312 non-null float64\n",
      "IsBorrowerHomeowner                    113937 non-null bool\n",
      "CurrentlyInGroup                       113937 non-null bool\n",
      "GroupKey                               13341 non-null object\n",
      "DateCreditPulled                       113937 non-null object\n",
      "CreditScoreRangeLower                  113346 non-null float64\n",
      "CreditScoreRangeUpper                  113346 non-null float64\n",
      "FirstRecordedCreditLine                113240 non-null object\n",
      "CurrentCreditLines                     106333 non-null float64\n",
      "OpenCreditLines                        106333 non-null float64\n",
      "TotalCreditLinespast7years             113240 non-null float64\n",
      "OpenRevolvingAccounts                  113937 non-null int64\n",
      "OpenRevolvingMonthlyPayment            113937 non-null float64\n",
      "InquiriesLast6Months                   113240 non-null float64\n",
      "TotalInquiries                         112778 non-null float64\n",
      "CurrentDelinquencies                   113240 non-null float64\n",
      "AmountDelinquent                       106315 non-null float64\n",
      "DelinquenciesLast7Years                112947 non-null float64\n",
      "PublicRecordsLast10Years               113240 non-null float64\n",
      "PublicRecordsLast12Months              106333 non-null float64\n",
      "RevolvingCreditBalance                 106333 non-null float64\n",
      "BankcardUtilization                    106333 non-null float64\n",
      "AvailableBankcardCredit                106393 non-null float64\n",
      "TotalTrades                            106393 non-null float64\n",
      "TradesNeverDelinquent (percentage)     106393 non-null float64\n",
      "TradesOpenedLast6Months                106393 non-null float64\n",
      "DebtToIncomeRatio                      105383 non-null float64\n",
      "IncomeRange                            113937 non-null object\n",
      "IncomeVerifiable                       113937 non-null bool\n",
      "StatedMonthlyIncome                    113937 non-null float64\n",
      "LoanKey                                113937 non-null object\n",
      "TotalProsperLoans                      22085 non-null float64\n",
      "TotalProsperPaymentsBilled             22085 non-null float64\n",
      "OnTimeProsperPayments                  22085 non-null float64\n",
      "ProsperPaymentsLessThanOneMonthLate    22085 non-null float64\n",
      "ProsperPaymentsOneMonthPlusLate        22085 non-null float64\n",
      "ProsperPrincipalBorrowed               22085 non-null float64\n",
      "ProsperPrincipalOutstanding            22085 non-null float64\n",
      "ScorexChangeAtTimeOfListing            18928 non-null float64\n",
      "LoanCurrentDaysDelinquent              113937 non-null int64\n",
      "LoanFirstDefaultedCycleNumber          16952 non-null float64\n",
      "LoanMonthsSinceOrigination             113937 non-null int64\n",
      "LoanNumber                             113937 non-null int64\n",
      "LoanOriginalAmount                     113937 non-null int64\n",
      "LoanOriginationDate                    113937 non-null object\n",
      "LoanOriginationQuarter                 113937 non-null object\n",
      "MemberKey                              113937 non-null object\n",
      "MonthlyLoanPayment                     113937 non-null float64\n",
      "LP_CustomerPayments                    113937 non-null float64\n",
      "LP_CustomerPrincipalPayments           113937 non-null float64\n",
      "LP_InterestandFees                     113937 non-null float64\n",
      "LP_ServiceFees                         113937 non-null float64\n",
      "LP_CollectionFees                      113937 non-null float64\n",
      "LP_GrossPrincipalLoss                  113937 non-null float64\n",
      "LP_NetPrincipalLoss                    113937 non-null float64\n",
      "LP_NonPrincipalRecoverypayments        113937 non-null float64\n",
      "PercentFunded                          113937 non-null float64\n",
      "Recommendations                        113937 non-null int64\n",
      "InvestmentFromFriendsCount             113937 non-null int64\n",
      "InvestmentFromFriendsAmount            113937 non-null float64\n",
      "Investors                              113937 non-null int64\n",
      "dtypes: bool(3), float64(50), int64(11), object(17)\n",
      "memory usage: 68.1+ MB\n"
     ]
    }
   ],
   "source": [
    "# Check general info of dataset\n",
    "data.info()"
   ]
  },
  {
   "cell_type": "code",
   "execution_count": 6,
   "metadata": {},
   "outputs": [
    {
     "data": {
      "text/html": [
       "<div>\n",
       "<style scoped>\n",
       "    .dataframe tbody tr th:only-of-type {\n",
       "        vertical-align: middle;\n",
       "    }\n",
       "\n",
       "    .dataframe tbody tr th {\n",
       "        vertical-align: top;\n",
       "    }\n",
       "\n",
       "    .dataframe thead th {\n",
       "        text-align: right;\n",
       "    }\n",
       "</style>\n",
       "<table border=\"1\" class=\"dataframe\">\n",
       "  <thead>\n",
       "    <tr style=\"text-align: right;\">\n",
       "      <th></th>\n",
       "      <th>ListingNumber</th>\n",
       "      <th>Term</th>\n",
       "      <th>BorrowerAPR</th>\n",
       "      <th>BorrowerRate</th>\n",
       "      <th>LenderYield</th>\n",
       "      <th>EstimatedEffectiveYield</th>\n",
       "      <th>EstimatedLoss</th>\n",
       "      <th>EstimatedReturn</th>\n",
       "      <th>ProsperRating (numeric)</th>\n",
       "      <th>ProsperScore</th>\n",
       "      <th>...</th>\n",
       "      <th>LP_ServiceFees</th>\n",
       "      <th>LP_CollectionFees</th>\n",
       "      <th>LP_GrossPrincipalLoss</th>\n",
       "      <th>LP_NetPrincipalLoss</th>\n",
       "      <th>LP_NonPrincipalRecoverypayments</th>\n",
       "      <th>PercentFunded</th>\n",
       "      <th>Recommendations</th>\n",
       "      <th>InvestmentFromFriendsCount</th>\n",
       "      <th>InvestmentFromFriendsAmount</th>\n",
       "      <th>Investors</th>\n",
       "    </tr>\n",
       "  </thead>\n",
       "  <tbody>\n",
       "    <tr>\n",
       "      <th>count</th>\n",
       "      <td>1.139370e+05</td>\n",
       "      <td>113937.000000</td>\n",
       "      <td>113912.000000</td>\n",
       "      <td>113937.000000</td>\n",
       "      <td>113937.000000</td>\n",
       "      <td>84853.000000</td>\n",
       "      <td>84853.000000</td>\n",
       "      <td>84853.000000</td>\n",
       "      <td>84853.000000</td>\n",
       "      <td>84853.000000</td>\n",
       "      <td>...</td>\n",
       "      <td>113937.000000</td>\n",
       "      <td>113937.000000</td>\n",
       "      <td>113937.000000</td>\n",
       "      <td>113937.000000</td>\n",
       "      <td>113937.000000</td>\n",
       "      <td>113937.000000</td>\n",
       "      <td>113937.000000</td>\n",
       "      <td>113937.000000</td>\n",
       "      <td>113937.000000</td>\n",
       "      <td>113937.000000</td>\n",
       "    </tr>\n",
       "    <tr>\n",
       "      <th>mean</th>\n",
       "      <td>6.278857e+05</td>\n",
       "      <td>40.830248</td>\n",
       "      <td>0.218828</td>\n",
       "      <td>0.192764</td>\n",
       "      <td>0.182701</td>\n",
       "      <td>0.168661</td>\n",
       "      <td>0.080306</td>\n",
       "      <td>0.096068</td>\n",
       "      <td>4.072243</td>\n",
       "      <td>5.950067</td>\n",
       "      <td>...</td>\n",
       "      <td>-54.725641</td>\n",
       "      <td>-14.242698</td>\n",
       "      <td>700.446342</td>\n",
       "      <td>681.420499</td>\n",
       "      <td>25.142686</td>\n",
       "      <td>0.998584</td>\n",
       "      <td>0.048027</td>\n",
       "      <td>0.023460</td>\n",
       "      <td>16.550751</td>\n",
       "      <td>80.475228</td>\n",
       "    </tr>\n",
       "    <tr>\n",
       "      <th>std</th>\n",
       "      <td>3.280762e+05</td>\n",
       "      <td>10.436212</td>\n",
       "      <td>0.080364</td>\n",
       "      <td>0.074818</td>\n",
       "      <td>0.074516</td>\n",
       "      <td>0.068467</td>\n",
       "      <td>0.046764</td>\n",
       "      <td>0.030403</td>\n",
       "      <td>1.673227</td>\n",
       "      <td>2.376501</td>\n",
       "      <td>...</td>\n",
       "      <td>60.675425</td>\n",
       "      <td>109.232758</td>\n",
       "      <td>2388.513831</td>\n",
       "      <td>2357.167068</td>\n",
       "      <td>275.657937</td>\n",
       "      <td>0.017919</td>\n",
       "      <td>0.332353</td>\n",
       "      <td>0.232412</td>\n",
       "      <td>294.545422</td>\n",
       "      <td>103.239020</td>\n",
       "    </tr>\n",
       "    <tr>\n",
       "      <th>min</th>\n",
       "      <td>4.000000e+00</td>\n",
       "      <td>12.000000</td>\n",
       "      <td>0.006530</td>\n",
       "      <td>0.000000</td>\n",
       "      <td>-0.010000</td>\n",
       "      <td>-0.182700</td>\n",
       "      <td>0.004900</td>\n",
       "      <td>-0.182700</td>\n",
       "      <td>1.000000</td>\n",
       "      <td>1.000000</td>\n",
       "      <td>...</td>\n",
       "      <td>-664.870000</td>\n",
       "      <td>-9274.750000</td>\n",
       "      <td>-94.200000</td>\n",
       "      <td>-954.550000</td>\n",
       "      <td>0.000000</td>\n",
       "      <td>0.700000</td>\n",
       "      <td>0.000000</td>\n",
       "      <td>0.000000</td>\n",
       "      <td>0.000000</td>\n",
       "      <td>1.000000</td>\n",
       "    </tr>\n",
       "    <tr>\n",
       "      <th>25%</th>\n",
       "      <td>4.009190e+05</td>\n",
       "      <td>36.000000</td>\n",
       "      <td>0.156290</td>\n",
       "      <td>0.134000</td>\n",
       "      <td>0.124200</td>\n",
       "      <td>0.115670</td>\n",
       "      <td>0.042400</td>\n",
       "      <td>0.074080</td>\n",
       "      <td>3.000000</td>\n",
       "      <td>4.000000</td>\n",
       "      <td>...</td>\n",
       "      <td>-73.180000</td>\n",
       "      <td>0.000000</td>\n",
       "      <td>0.000000</td>\n",
       "      <td>0.000000</td>\n",
       "      <td>0.000000</td>\n",
       "      <td>1.000000</td>\n",
       "      <td>0.000000</td>\n",
       "      <td>0.000000</td>\n",
       "      <td>0.000000</td>\n",
       "      <td>2.000000</td>\n",
       "    </tr>\n",
       "    <tr>\n",
       "      <th>50%</th>\n",
       "      <td>6.005540e+05</td>\n",
       "      <td>36.000000</td>\n",
       "      <td>0.209760</td>\n",
       "      <td>0.184000</td>\n",
       "      <td>0.173000</td>\n",
       "      <td>0.161500</td>\n",
       "      <td>0.072400</td>\n",
       "      <td>0.091700</td>\n",
       "      <td>4.000000</td>\n",
       "      <td>6.000000</td>\n",
       "      <td>...</td>\n",
       "      <td>-34.440000</td>\n",
       "      <td>0.000000</td>\n",
       "      <td>0.000000</td>\n",
       "      <td>0.000000</td>\n",
       "      <td>0.000000</td>\n",
       "      <td>1.000000</td>\n",
       "      <td>0.000000</td>\n",
       "      <td>0.000000</td>\n",
       "      <td>0.000000</td>\n",
       "      <td>44.000000</td>\n",
       "    </tr>\n",
       "    <tr>\n",
       "      <th>75%</th>\n",
       "      <td>8.926340e+05</td>\n",
       "      <td>36.000000</td>\n",
       "      <td>0.283810</td>\n",
       "      <td>0.250000</td>\n",
       "      <td>0.240000</td>\n",
       "      <td>0.224300</td>\n",
       "      <td>0.112000</td>\n",
       "      <td>0.116600</td>\n",
       "      <td>5.000000</td>\n",
       "      <td>8.000000</td>\n",
       "      <td>...</td>\n",
       "      <td>-13.920000</td>\n",
       "      <td>0.000000</td>\n",
       "      <td>0.000000</td>\n",
       "      <td>0.000000</td>\n",
       "      <td>0.000000</td>\n",
       "      <td>1.000000</td>\n",
       "      <td>0.000000</td>\n",
       "      <td>0.000000</td>\n",
       "      <td>0.000000</td>\n",
       "      <td>115.000000</td>\n",
       "    </tr>\n",
       "    <tr>\n",
       "      <th>max</th>\n",
       "      <td>1.255725e+06</td>\n",
       "      <td>60.000000</td>\n",
       "      <td>0.512290</td>\n",
       "      <td>0.497500</td>\n",
       "      <td>0.492500</td>\n",
       "      <td>0.319900</td>\n",
       "      <td>0.366000</td>\n",
       "      <td>0.283700</td>\n",
       "      <td>7.000000</td>\n",
       "      <td>11.000000</td>\n",
       "      <td>...</td>\n",
       "      <td>32.060000</td>\n",
       "      <td>0.000000</td>\n",
       "      <td>25000.000000</td>\n",
       "      <td>25000.000000</td>\n",
       "      <td>21117.900000</td>\n",
       "      <td>1.012500</td>\n",
       "      <td>39.000000</td>\n",
       "      <td>33.000000</td>\n",
       "      <td>25000.000000</td>\n",
       "      <td>1189.000000</td>\n",
       "    </tr>\n",
       "  </tbody>\n",
       "</table>\n",
       "<p>8 rows × 61 columns</p>\n",
       "</div>"
      ],
      "text/plain": [
       "       ListingNumber           Term    BorrowerAPR   BorrowerRate  \\\n",
       "count   1.139370e+05  113937.000000  113912.000000  113937.000000   \n",
       "mean    6.278857e+05      40.830248       0.218828       0.192764   \n",
       "std     3.280762e+05      10.436212       0.080364       0.074818   \n",
       "min     4.000000e+00      12.000000       0.006530       0.000000   \n",
       "25%     4.009190e+05      36.000000       0.156290       0.134000   \n",
       "50%     6.005540e+05      36.000000       0.209760       0.184000   \n",
       "75%     8.926340e+05      36.000000       0.283810       0.250000   \n",
       "max     1.255725e+06      60.000000       0.512290       0.497500   \n",
       "\n",
       "         LenderYield  EstimatedEffectiveYield  EstimatedLoss  EstimatedReturn  \\\n",
       "count  113937.000000             84853.000000   84853.000000     84853.000000   \n",
       "mean        0.182701                 0.168661       0.080306         0.096068   \n",
       "std         0.074516                 0.068467       0.046764         0.030403   \n",
       "min        -0.010000                -0.182700       0.004900        -0.182700   \n",
       "25%         0.124200                 0.115670       0.042400         0.074080   \n",
       "50%         0.173000                 0.161500       0.072400         0.091700   \n",
       "75%         0.240000                 0.224300       0.112000         0.116600   \n",
       "max         0.492500                 0.319900       0.366000         0.283700   \n",
       "\n",
       "       ProsperRating (numeric)  ProsperScore      ...        LP_ServiceFees  \\\n",
       "count             84853.000000  84853.000000      ...         113937.000000   \n",
       "mean                  4.072243      5.950067      ...            -54.725641   \n",
       "std                   1.673227      2.376501      ...             60.675425   \n",
       "min                   1.000000      1.000000      ...           -664.870000   \n",
       "25%                   3.000000      4.000000      ...            -73.180000   \n",
       "50%                   4.000000      6.000000      ...            -34.440000   \n",
       "75%                   5.000000      8.000000      ...            -13.920000   \n",
       "max                   7.000000     11.000000      ...             32.060000   \n",
       "\n",
       "       LP_CollectionFees  LP_GrossPrincipalLoss  LP_NetPrincipalLoss  \\\n",
       "count      113937.000000          113937.000000        113937.000000   \n",
       "mean          -14.242698             700.446342           681.420499   \n",
       "std           109.232758            2388.513831          2357.167068   \n",
       "min         -9274.750000             -94.200000          -954.550000   \n",
       "25%             0.000000               0.000000             0.000000   \n",
       "50%             0.000000               0.000000             0.000000   \n",
       "75%             0.000000               0.000000             0.000000   \n",
       "max             0.000000           25000.000000         25000.000000   \n",
       "\n",
       "       LP_NonPrincipalRecoverypayments  PercentFunded  Recommendations  \\\n",
       "count                    113937.000000  113937.000000    113937.000000   \n",
       "mean                         25.142686       0.998584         0.048027   \n",
       "std                         275.657937       0.017919         0.332353   \n",
       "min                           0.000000       0.700000         0.000000   \n",
       "25%                           0.000000       1.000000         0.000000   \n",
       "50%                           0.000000       1.000000         0.000000   \n",
       "75%                           0.000000       1.000000         0.000000   \n",
       "max                       21117.900000       1.012500        39.000000   \n",
       "\n",
       "       InvestmentFromFriendsCount  InvestmentFromFriendsAmount      Investors  \n",
       "count               113937.000000                113937.000000  113937.000000  \n",
       "mean                     0.023460                    16.550751      80.475228  \n",
       "std                      0.232412                   294.545422     103.239020  \n",
       "min                      0.000000                     0.000000       1.000000  \n",
       "25%                      0.000000                     0.000000       2.000000  \n",
       "50%                      0.000000                     0.000000      44.000000  \n",
       "75%                      0.000000                     0.000000     115.000000  \n",
       "max                     33.000000                 25000.000000    1189.000000  \n",
       "\n",
       "[8 rows x 61 columns]"
      ]
     },
     "execution_count": 6,
     "metadata": {},
     "output_type": "execute_result"
    }
   ],
   "source": [
    "data.describe()"
   ]
  },
  {
   "cell_type": "markdown",
   "metadata": {},
   "source": [
    "### What is the structure of your dataset?\n",
    "\n",
    "> The dataset has total of 113937 observations and 81 features. Majority of features (61 out of 81) are numeric. \n",
    "\n",
    "### What is/are the main feature(s) of interest in your dataset?\n",
    "\n",
    "> The feature I'd like to investigate more is **ProsperScore**. This column demonstrates a custom risk score built using historical Prosper data. The score ranges from 1-10, with 10 being the best, or lowest risk score. \n",
    "\n",
    "> With this feature, I would like explore relationship betwwen the credit score and several of background information of borrowers. \n",
    "\n",
    "### What features in the dataset do you think will help support your investigation into your feature(s) of interest?\n",
    "\n",
    "> There are some variables I suppose that they would influence the credit score decided by Prosper. They are:\n",
    "\n",
    "- **ListingCategory (numeric)**: The category of the listing that the borrower selected when posting their listing: 0 - Not Available, 1 - Debt Consolidation, 2 - Home Improvement, 3 - Business, 4 - Personal Loan, 5 - Student Use, 6 - Auto, 7- Other, 8 - Baby&Adoption, 9 - Boat, 10 - Cosmetic Procedure, 11 - Engagement Ring, 12 - Green Loans, 13 - Household Expenses, 14 - Large Purchases, 15 - Medical/Dental, 16 - Motorcycle, 17 - RV, 18 - Taxes, 19 - Vacation, 20 - Wedding Loans\n",
    "- **StatedMonthlyIncome**: The monthly income the borrower\n",
    "- **EmploymentStatusDuration**: The length in months of the employment status at the time the listing was created.\n",
    "- **AmountDelinquent**: Dollars delinquent at the time the credit profile was pulled.\n",
    "- **AvailableBankcardCredit**: The total available credit via bank card at the time the credit profile was pulled.\n",
    "- **LoanOriginalAmount**: The origination amount of the loan.\n",
    "- **Recommendations**: Number of recommendations the borrower had at the time the listing was created.\n",
    "\n",
    "\n"
   ]
  },
  {
   "cell_type": "markdown",
   "metadata": {},
   "source": [
    "### 2.2 Clean data"
   ]
  },
  {
   "cell_type": "code",
   "execution_count": 7,
   "metadata": {},
   "outputs": [],
   "source": [
    "# Extract only necessary columns to analyse\n",
    "data = data[['ListingCategory (numeric)','StatedMonthlyIncome', 'EmploymentStatusDuration','AmountDelinquent','AvailableBankcardCredit', 'LoanOriginalAmount','Recommendations','ProsperScore']]"
   ]
  },
  {
   "cell_type": "code",
   "execution_count": 8,
   "metadata": {},
   "outputs": [
    {
     "name": "stdout",
     "output_type": "stream",
     "text": [
      "<class 'pandas.core.frame.DataFrame'>\n",
      "RangeIndex: 113937 entries, 0 to 113936\n",
      "Data columns (total 8 columns):\n",
      "ListingCategory (numeric)    113937 non-null int64\n",
      "StatedMonthlyIncome          113937 non-null float64\n",
      "EmploymentStatusDuration     106312 non-null float64\n",
      "AmountDelinquent             106315 non-null float64\n",
      "AvailableBankcardCredit      106393 non-null float64\n",
      "LoanOriginalAmount           113937 non-null int64\n",
      "Recommendations              113937 non-null int64\n",
      "ProsperScore                 84853 non-null float64\n",
      "dtypes: float64(5), int64(3)\n",
      "memory usage: 7.0 MB\n"
     ]
    }
   ],
   "source": [
    "data.info()"
   ]
  },
  {
   "cell_type": "markdown",
   "metadata": {},
   "source": [
    "Because the target variable in this analysis is **ProsperScore**, any observations has missing values in this feature will be removed."
   ]
  },
  {
   "cell_type": "code",
   "execution_count": 9,
   "metadata": {},
   "outputs": [],
   "source": [
    "# Remove missing data based on ProperScore column\n",
    "data = data[data['ProsperScore'].isnull()==False]"
   ]
  },
  {
   "cell_type": "code",
   "execution_count": 10,
   "metadata": {
    "scrolled": false
   },
   "outputs": [
    {
     "name": "stdout",
     "output_type": "stream",
     "text": [
      "<class 'pandas.core.frame.DataFrame'>\n",
      "Int64Index: 84853 entries, 1 to 113936\n",
      "Data columns (total 8 columns):\n",
      "ListingCategory (numeric)    84853 non-null int64\n",
      "StatedMonthlyIncome          84853 non-null float64\n",
      "EmploymentStatusDuration     84834 non-null float64\n",
      "AmountDelinquent             84853 non-null float64\n",
      "AvailableBankcardCredit      84853 non-null float64\n",
      "LoanOriginalAmount           84853 non-null int64\n",
      "Recommendations              84853 non-null int64\n",
      "ProsperScore                 84853 non-null float64\n",
      "dtypes: float64(5), int64(3)\n",
      "memory usage: 5.8 MB\n"
     ]
    }
   ],
   "source": [
    "# Check the result\n",
    "data.info()"
   ]
  },
  {
   "cell_type": "code",
   "execution_count": 11,
   "metadata": {},
   "outputs": [],
   "source": [
    "# The EmploymentStatusDuration still contains some null values, which should be removed as well.\n",
    "\n",
    "data = data[data['EmploymentStatusDuration'].isnull()==False]"
   ]
  },
  {
   "cell_type": "markdown",
   "metadata": {},
   "source": [
    "Both **ProsperScore** and **ListingCategory** are columns with values fixed in a specific range. Hence, I'll check these two more carefully to avoid any values out of scope"
   ]
  },
  {
   "cell_type": "code",
   "execution_count": 12,
   "metadata": {},
   "outputs": [
    {
     "data": {
      "text/plain": [
       "1.0       992\n",
       "2.0      5765\n",
       "3.0      7641\n",
       "4.0     12593\n",
       "5.0      9809\n",
       "6.0     12274\n",
       "7.0     10595\n",
       "8.0     12052\n",
       "9.0      6908\n",
       "10.0     4749\n",
       "11.0     1456\n",
       "Name: ProsperScore, dtype: int64"
      ]
     },
     "execution_count": 12,
     "metadata": {},
     "output_type": "execute_result"
    }
   ],
   "source": [
    "#Check the value distribution of 'ProsperScore'\n",
    "data['ProsperScore'].value_counts().sort_index()"
   ]
  },
  {
   "cell_type": "markdown",
   "metadata": {},
   "source": [
    "Because the **ProsperScore** only takes value from 0 to 10, obervations with 11 score is out of scope. It is hard to determine the right score in those mistaken rows. Therefore, I will remove all of them."
   ]
  },
  {
   "cell_type": "code",
   "execution_count": 13,
   "metadata": {},
   "outputs": [],
   "source": [
    "# Remove rows with value '11'\n",
    "data = data[data['ProsperScore'] != 11]"
   ]
  },
  {
   "cell_type": "code",
   "execution_count": 14,
   "metadata": {},
   "outputs": [
    {
     "data": {
      "text/plain": [
       "0        20\n",
       "1     52227\n",
       "2      6647\n",
       "3      5203\n",
       "5       274\n",
       "6      2203\n",
       "7      9120\n",
       "8       191\n",
       "9        85\n",
       "10       91\n",
       "11      212\n",
       "12       59\n",
       "13     1966\n",
       "14      857\n",
       "15     1493\n",
       "16      303\n",
       "17       51\n",
       "18      868\n",
       "19      754\n",
       "20      754\n",
       "Name: ListingCategory (numeric), dtype: int64"
      ]
     },
     "execution_count": 14,
     "metadata": {},
     "output_type": "execute_result"
    }
   ],
   "source": [
    "# Check the ListingCategory (numeric) column\n",
    "data['ListingCategory (numeric)'].value_counts().sort_index()"
   ]
  },
  {
   "cell_type": "markdown",
   "metadata": {},
   "source": [
    "There's nothing wrong with values in this column"
   ]
  },
  {
   "cell_type": "markdown",
   "metadata": {},
   "source": [
    "<a id='unianalysis'></a>\n",
    "\n",
    "## 3. Univariate Exploratory Analysis\n"
   ]
  },
  {
   "cell_type": "markdown",
   "metadata": {},
   "source": [
    "#### 3.1. **ProsperScore**"
   ]
  },
  {
   "cell_type": "code",
   "execution_count": 15,
   "metadata": {
    "scrolled": false
   },
   "outputs": [
    {
     "data": {
      "text/plain": [
       "Text(0.5,1,'Distribution of ProperScore')"
      ]
     },
     "execution_count": 15,
     "metadata": {},
     "output_type": "execute_result"
    },
    {
     "data": {
      "image/png": "[encoded data removed]",
      "text/plain": [
       "<matplotlib.figure.Figure at 0x7fe2506115f8>"
      ]
     },
     "metadata": {
      "needs_background": "light"
     },
     "output_type": "display_data"
    }
   ],
   "source": [
    "# Bar chart of ProsperScore's value \n",
    "base_color = sb.color_palette()[3]\n",
    "orders = data['ProsperScore'].value_counts().index\n",
    "sb.countplot(data=data, x='ProsperScore', color=base_color, order = orders)\n",
    "plt.title('Distribution of ProperScore')"
   ]
  },
  {
   "cell_type": "code",
   "execution_count": 16,
   "metadata": {},
   "outputs": [
    {
     "data": {
      "text/plain": [
       "0.6762815131089736"
      ]
     },
     "execution_count": 16,
     "metadata": {},
     "output_type": "execute_result"
    }
   ],
   "source": [
    "#The proportion of borrowers receiving credit score higher than 5\n",
    "data[data['ProsperScore']>=5].shape[0]/data.shape[0]"
   ]
  },
  {
   "cell_type": "markdown",
   "metadata": {},
   "source": [
    "> According to the graph, very few borrowers received the lowest credit score (1) from ProsperScore. The number of people getting the highest score (10) takes the penultimate rank. Borrowers with score above 5 make up two third of the total population. "
   ]
  },
  {
   "cell_type": "markdown",
   "metadata": {},
   "source": [
    "#### 3.2. ListingCategory (numeric)"
   ]
  },
  {
   "cell_type": "code",
   "execution_count": 17,
   "metadata": {
    "scrolled": true
   },
   "outputs": [
    {
     "data": {
      "text/plain": [
       "Text(0.5,1,'Distribution of Category')"
      ]
     },
     "execution_count": 17,
     "metadata": {},
     "output_type": "execute_result"
    },
    {
     "data": {
      "image/png": "[encoded data removed]",
      "text/plain": [
       "<matplotlib.figure.Figure at 0x7fe250e05710>"
      ]
     },
     "metadata": {
      "needs_background": "light"
     },
     "output_type": "display_data"
    }
   ],
   "source": [
    "base_color = sb.color_palette()[1]\n",
    "orders = data['ListingCategory (numeric)'].value_counts().index\n",
    "sb.countplot(data=data, x='ListingCategory (numeric)', color=base_color, order = orders)\n",
    "plt.title('Distribution of Category')"
   ]
  },
  {
   "cell_type": "code",
   "execution_count": 18,
   "metadata": {},
   "outputs": [
    {
     "data": {
      "text/plain": [
       "0.6263882558948404"
      ]
     },
     "execution_count": 18,
     "metadata": {},
     "output_type": "execute_result"
    }
   ],
   "source": [
    "data[data['ListingCategory (numeric)']==1].shape[0]/data.shape[0]"
   ]
  },
  {
   "cell_type": "markdown",
   "metadata": {},
   "source": [
    "> The most common problem of borrowers of Prosper is related to category 1 - Debt Consolidation. More than 62% of customers mention this problem when they ask loans from Prosper."
   ]
  },
  {
   "cell_type": "markdown",
   "metadata": {},
   "source": [
    "####  3.3 **StatedMonthlyIncome**"
   ]
  },
  {
   "cell_type": "code",
   "execution_count": 19,
   "metadata": {},
   "outputs": [
    {
     "data": {
      "image/png": "[encoded data removed]",
      "text/plain": [
       "<matplotlib.figure.Figure at 0x7fe24d966b00>"
      ]
     },
     "metadata": {
      "needs_background": "light"
     },
     "output_type": "display_data"
    }
   ],
   "source": [
    "# start with a standard-scaled plot\n",
    "binsize = 2000\n",
    "bins = np.arange(0, data['StatedMonthlyIncome'].max()+binsize, binsize)\n",
    "\n",
    "plt.figure(figsize=[8, 5])\n",
    "plt.hist(data = data, x = 'StatedMonthlyIncome', bins = bins)\n",
    "plt.xlabel('Monthly Income')\n",
    "plt.show()"
   ]
  },
  {
   "cell_type": "markdown",
   "metadata": {},
   "source": [
    "> According the graph, the distribution of **StatedMonthlyIncome** is very right-skewed. I will apply log transformation on the x-axis to create better graphic. "
   ]
  },
  {
   "cell_type": "code",
   "execution_count": 20,
   "metadata": {},
   "outputs": [
    {
     "data": {
      "image/png": "[encoded data removed]",
      "text/plain": [
       "<matplotlib.figure.Figure at 0x7fe24c0bed68>"
      ]
     },
     "metadata": {
      "needs_background": "light"
     },
     "output_type": "display_data"
    }
   ],
   "source": [
    "# Plot with log transformation\n",
    "log_binsize = 0.05\n",
    "bins = 10 ** np.arange(1, np.log10(data['StatedMonthlyIncome'].max())+log_binsize, log_binsize)\n",
    "\n",
    "plt.figure(figsize=[8, 5])\n",
    "plt.hist(data = data, x = 'StatedMonthlyIncome', bins = bins)\n",
    "plt.xscale('log')\n",
    "plt.xticks([100, 500, 1e3, 2e3, 5e3, 1e4, 2e4], [100, 500, '1k', '2k', '5k', '10k', '20k'])\n",
    "plt.xlabel('Monthly Income')\n",
    "plt.title('Distribution of monthly income')\n",
    "plt.show()"
   ]
  },
  {
   "cell_type": "markdown",
   "metadata": {},
   "source": [
    "> **StatedMonthlyIncome** has a long-tailed distribution, with a lot of observations on the low income end, and few on the high income end. When plotted on a log-scale, the income distribution looks approximately normal, with peak around 5 000."
   ]
  },
  {
   "cell_type": "markdown",
   "metadata": {},
   "source": [
    "#### 3.4 EmploymentStatusDuration"
   ]
  },
  {
   "cell_type": "code",
   "execution_count": 21,
   "metadata": {
    "scrolled": true
   },
   "outputs": [
    {
     "data": {
      "image/png": "[encoded data removed]",
      "text/plain": [
       "<matplotlib.figure.Figure at 0x7fe250fda3c8>"
      ]
     },
     "metadata": {
      "needs_background": "light"
     },
     "output_type": "display_data"
    }
   ],
   "source": [
    "bins = np.arange(0, data['EmploymentStatusDuration'].max()+5, 20)\n",
    "plt.hist(data = data, x = 'EmploymentStatusDuration', bins = bins)\n",
    "plt.xlabel('Employment duration (month)')\n",
    "plt.ylabel('Frequency')\n",
    "plt.title('Distribution of employment duration')\n",
    "plt.show()\n"
   ]
  },
  {
   "cell_type": "markdown",
   "metadata": {},
   "source": [
    "> According the graph, the distribution of **duration of employment** is very right-skewed. It shows  majority of cutsomers of Prosper have worked less than 45 years (550 months) Due to this column contains values of 0, I cannot apply log transformation on the x-axis to create better graphic."
   ]
  },
  {
   "cell_type": "markdown",
   "metadata": {},
   "source": [
    "#### 3.5 AmountDeliquent"
   ]
  },
  {
   "cell_type": "code",
   "execution_count": 22,
   "metadata": {
    "scrolled": false
   },
   "outputs": [
    {
     "data": {
      "image/png": "[encoded data removed]",
      "text/plain": [
       "<matplotlib.figure.Figure at 0x7fe250fe63c8>"
      ]
     },
     "metadata": {
      "needs_background": "light"
     },
     "output_type": "display_data"
    }
   ],
   "source": [
    "#Check distribution of this column with histogram\n",
    "plt.hist(data = data, x ='AmountDelinquent')\n",
    "plt.xlabel('Amount of delinquent($)')\n",
    "plt.ylabel('Frequency')\n",
    "plt.title('Distribution of delinquent')\n",
    "plt.show()"
   ]
  },
  {
   "cell_type": "markdown",
   "metadata": {},
   "source": [
    "> The histogram is right-skwewed. Because we cannot use log transformation (containing 0 value). Let's check some basic information of this feature"
   ]
  },
  {
   "cell_type": "code",
   "execution_count": 23,
   "metadata": {
    "scrolled": true
   },
   "outputs": [
    {
     "data": {
      "text/plain": [
       "count     83378.000000\n",
       "mean        962.310178\n",
       "std        7465.525393\n",
       "min           0.000000\n",
       "25%           0.000000\n",
       "50%           0.000000\n",
       "75%           0.000000\n",
       "max      463881.000000\n",
       "Name: AmountDelinquent, dtype: float64"
      ]
     },
     "execution_count": 23,
     "metadata": {},
     "output_type": "execute_result"
    }
   ],
   "source": [
    "data['AmountDelinquent'].describe()"
   ]
  },
  {
   "cell_type": "markdown",
   "metadata": {},
   "source": [
    "> There ara more than 75% of cutomers having no delinquent record. So I decide to split this feature into 2 groups: 'No delinquent' (AmountDelinquent = 0) and 'Have delinquent' (AmountDelinquent > 0)."
   ]
  },
  {
   "cell_type": "code",
   "execution_count": 24,
   "metadata": {},
   "outputs": [],
   "source": [
    "# Create a copied dataframe\n",
    "data2 = data.copy()\n",
    "\n",
    "# Add new column 'category' with 2 values: 'No delinquent' and 'Have delinquent'\n",
    "data2['category'] = np.where(data2['AmountDelinquent']==0, 'No delinquent', 'Have delinquent')"
   ]
  },
  {
   "cell_type": "code",
   "execution_count": 25,
   "metadata": {},
   "outputs": [
    {
     "data": {
      "text/plain": [
       "category         category       \n",
       "Have delinquent  Have delinquent    10937\n",
       "No delinquent    No delinquent      72441\n",
       "Name: category, dtype: int64"
      ]
     },
     "execution_count": 25,
     "metadata": {},
     "output_type": "execute_result"
    }
   ],
   "source": [
    "# Check number of values in each group\n",
    "data2.groupby('category')['category'].value_counts()\n"
   ]
  },
  {
   "cell_type": "code",
   "execution_count": 26,
   "metadata": {
    "scrolled": false
   },
   "outputs": [
    {
     "data": {
      "image/png": "[encoded data removed]",
      "text/plain": [
       "<matplotlib.figure.Figure at 0x7fe25051f278>"
      ]
     },
     "metadata": {
      "needs_background": "light"
     },
     "output_type": "display_data"
    }
   ],
   "source": [
    "# Create a relative distribution plot\n",
    "\n",
    "keys, counts = np.unique(data2['category'], return_counts=True)\n",
    "counts_norm = counts/counts.sum()\n",
    "\n",
    "ax1 = plt.bar(['Category'], [counts_norm[0]], label='Have delinquent')\n",
    "ax1 = plt.bar(['Category'], [counts_norm[1]], bottom=counts_norm[0], label='No delinquent')\n",
    "ax1 = plt.legend(bbox_to_anchor=(1, 1))\n",
    "ax1 = plt.title('Relative distribution')\n",
    "ax1 = plt.ylabel('frequency')\n",
    "ax1 = plt.text(['Category'],counts_norm[0]/2, '{}%'.format((counts_norm[0]*100).round(1)))\n",
    "ax1 = plt.text(['Category'],(counts_norm[1]/2)+counts_norm[0], '{}%'.format((counts_norm[1]*100).round(1)))"
   ]
  },
  {
   "cell_type": "markdown",
   "metadata": {},
   "source": [
    "> There are around 87% of customers showing no delinquent records. This figure is nearly 6 times higher than that of 'Have delinquent' group."
   ]
  },
  {
   "cell_type": "markdown",
   "metadata": {},
   "source": [
    "#### 3.6. LoanOriginalAmount"
   ]
  },
  {
   "cell_type": "code",
   "execution_count": 27,
   "metadata": {
    "scrolled": false
   },
   "outputs": [
    {
     "data": {
      "image/png": "[encoded data removed]",
      "text/plain": [
       "<matplotlib.figure.Figure at 0x7fe250516ac8>"
      ]
     },
     "metadata": {
      "needs_background": "light"
     },
     "output_type": "display_data"
    }
   ],
   "source": [
    "#Check distribution of this column with histogram\n",
    "plt.hist(data = data, x ='LoanOriginalAmount')\n",
    "plt.xlabel('Amount of loan($)')\n",
    "plt.ylabel('Frequency')\n",
    "plt.title('Distribution of loan')\n",
    "plt.show()"
   ]
  },
  {
   "cell_type": "code",
   "execution_count": 28,
   "metadata": {},
   "outputs": [
    {
     "data": {
      "text/plain": [
       "0"
      ]
     },
     "execution_count": 28,
     "metadata": {},
     "output_type": "execute_result"
    }
   ],
   "source": [
    "# Check if there are any 0 values in column to use log transformation\n",
    "data[data['LoanOriginalAmount']==0].shape[0]"
   ]
  },
  {
   "cell_type": "code",
   "execution_count": 29,
   "metadata": {
    "scrolled": true
   },
   "outputs": [
    {
     "data": {
      "image/png": "[encoded data removed]",
      "text/plain": [
       "<matplotlib.figure.Figure at 0x7fe250642080>"
      ]
     },
     "metadata": {
      "needs_background": "light"
     },
     "output_type": "display_data"
    }
   ],
   "source": [
    "# Plot with log transformation\n",
    "log_binsize = 0.1\n",
    "bins = 10 ** np.arange(1, np.log10(data['LoanOriginalAmount'].max())+log_binsize, log_binsize)\n",
    "\n",
    "plt.figure(figsize=[8, 5])\n",
    "plt.hist(data = data, x = 'LoanOriginalAmount', bins = bins)\n",
    "plt.xscale('log')\n",
    "plt.xticks([100, 500, 1e3, 2e3, 5e3, 1e4, 2e4], [100, 500, '1k', '2k', '5k', '10k', '20k'])\n",
    "plt.xlabel('Amount of loan($)')\n",
    "plt.title('Distribution of loan')\n",
    "plt.show()"
   ]
  },
  {
   "cell_type": "markdown",
   "metadata": {},
   "source": [
    "> The orginal distribution historgram is right-skwewed so that I use log transformation to crete a better graph. However, after transforming, there are no special things that can be interpreted from the new histogram."
   ]
  },
  {
   "cell_type": "markdown",
   "metadata": {},
   "source": [
    "#### 3.7. Recommendation"
   ]
  },
  {
   "cell_type": "code",
   "execution_count": 30,
   "metadata": {
    "scrolled": true
   },
   "outputs": [
    {
     "data": {
      "text/plain": [
       "count    83378.000000\n",
       "mean         0.017271\n",
       "std          0.187689\n",
       "min          0.000000\n",
       "25%          0.000000\n",
       "50%          0.000000\n",
       "75%          0.000000\n",
       "max         19.000000\n",
       "Name: Recommendations, dtype: float64"
      ]
     },
     "execution_count": 30,
     "metadata": {},
     "output_type": "execute_result"
    }
   ],
   "source": [
    "data['Recommendations'].describe()"
   ]
  },
  {
   "cell_type": "code",
   "execution_count": 31,
   "metadata": {},
   "outputs": [],
   "source": [
    "# Create a copied dataframe\n",
    "data3 = data.copy()\n",
    "\n",
    "# Add new column 'category' with 2 values: 'No delinquent' and 'Have delinquent'\n",
    "data3['category'] = np.where(data3['Recommendations']==0, 'No recommendation', 'Have recommendation')"
   ]
  },
  {
   "cell_type": "code",
   "execution_count": 32,
   "metadata": {},
   "outputs": [
    {
     "data": {
      "image/png": "[encoded data removed]",
      "text/plain": [
       "<matplotlib.figure.Figure at 0x7fe24ccb37b8>"
      ]
     },
     "metadata": {
      "needs_background": "light"
     },
     "output_type": "display_data"
    }
   ],
   "source": [
    "# Create a relative distribution plot\n",
    "\n",
    "keys, counts = np.unique(data3['category'], return_counts=True)\n",
    "counts_norm = counts/counts.sum()\n",
    "\n",
    "ax1 = plt.bar(['Category'], [counts_norm[0]], label='Have recommendation')\n",
    "ax1 = plt.bar(['Category'], [counts_norm[1]], bottom=counts_norm[0], label='No recommendation')\n",
    "ax1 = plt.legend(bbox_to_anchor=(1, 1))\n",
    "ax1 = plt.title('Relative distribution')\n",
    "ax1 = plt.ylabel('frequency')\n",
    "ax1 = plt.text(['Category'],counts_norm[0]/2, '{}%'.format((counts_norm[0]*100).round(1)))\n",
    "ax1 = plt.text(['Category'],(counts_norm[1]/2)+counts_norm[0], '{}%'.format((counts_norm[1]*100).round(1)))"
   ]
  },
  {
   "cell_type": "markdown",
   "metadata": {},
   "source": [
    "> It can be seen that there are very few customers having recommendations when they borrow money from Prosper. Only 1.4% of customers getting valid recommendations in this dataset"
   ]
  },
  {
   "cell_type": "markdown",
   "metadata": {},
   "source": [
    "### Discuss the distribution(s) of your variable(s) of interest. Were there any unusual points? Did you need to perform any transformations?\n",
    "\n",
    ">  Before doing a log transformtion, **StatedMonthlyIncome** column demonstrates a long-tailed distribution, showing that thera are a lot of low income-consumers and few borrowers with high income level. When plotted on a log-scale, the income distribution looks approximately normal, with peak around 5 000.\n",
    "\n",
    "\n",
    "### Of the features you investigated, were there any unusual distributions? Did you perform any operations on the data to tidy, adjust, or change the form of the data? If so, why did you do this?\n",
    "\n",
    "> Both **Recommendations** and **AmountDelinquent** columns contain a lot of 0 values. Moreover, their standard distrubution has a long-tail and is hard to interpret. Therefore, I decide to divide observations of two columns into 2 group for each: No recommedations/delinquent vs Have recommedations/delinquent. Then, I use relative distribution graph to present final results."
   ]
  },
  {
   "cell_type": "markdown",
   "metadata": {},
   "source": [
    "<a id='bianalysis'></a>\n",
    "\n",
    "## 4. Bivariate Exploratory Analysis\n",
    "\n",
    "#### 4.1. ListingCategory (numeric) vs LoanOriginalAmount\n"
   ]
  },
  {
   "cell_type": "code",
   "execution_count": 33,
   "metadata": {},
   "outputs": [],
   "source": [
    "# Calculate averge amount of loan in each category\n",
    "data4 = data.groupby('ListingCategory (numeric)')['LoanOriginalAmount'].mean().sort_values()"
   ]
  },
  {
   "cell_type": "code",
   "execution_count": 34,
   "metadata": {
    "scrolled": true
   },
   "outputs": [
    {
     "data": {
      "text/plain": [
       "Text(0.5,1,'Histogram of average loan amount by listing category')"
      ]
     },
     "execution_count": 34,
     "metadata": {},
     "output_type": "execute_result"
    },
    {
     "data": {
      "image/png": "[encoded data removed]",
      "text/plain": [
       "<matplotlib.figure.Figure at 0x7fe24d537c50>"
      ]
     },
     "metadata": {
      "needs_background": "light"
     },
     "output_type": "display_data"
    }
   ],
   "source": [
    "base_color = sb.color_palette()[3]\n",
    "data4.plot(kind='bar', color=base_color)\n",
    "plt.ylabel('Average loan ($)')\n",
    "plt.title('Histogram of average loan amount by listing category')"
   ]
  },
  {
   "cell_type": "markdown",
   "metadata": {},
   "source": [
    "> Category 1 - Debt consolidation also has the highest amount of loan. This finding is reasonable because the number of borrowers refering to Debt consolidation is also highest among all. \n",
    "> Although the number of customers mentioning Category 8 - Baby&Adoption is not so many, rank 15 out of 20, this category has the second highest average amount of loan. This result implies customers of Prosper usually borrow a large money amount when its comes to raise or adopt a child."
   ]
  },
  {
   "cell_type": "markdown",
   "metadata": {},
   "source": [
    "#### 4.2. Scatterplot with regression function fitting"
   ]
  },
  {
   "cell_type": "code",
   "execution_count": 35,
   "metadata": {},
   "outputs": [],
   "source": [
    "def scatterplot(x_axis, y_axis):\n",
    "    # Plot type and general properties\n",
    "    sb.regplot(data = data, x = x_axis, y = y_axis)\n",
    "    \n",
    "    # Format title:\n",
    "    plt.title(f\"Relationship between {x_axis} and {y_axis}\".title(), fontsize = 10, weight ='bold')\n",
    "    \n",
    "    # Format x label:\n",
    "    plt.xlabel(x_axis.title(), fontsize = 10, weight = \"bold\")\n",
    "    \n",
    "    # Format y label:\n",
    "    plt.ylabel(y_axis.title(), fontsize = 10, weight = \"bold\", rotation='horizontal', labelpad=50 )\n"
   ]
  },
  {
   "cell_type": "markdown",
   "metadata": {},
   "source": [
    "'StatedMonthlyIncome', 'EmploymentStatusDuration','AmountDelinquent','AvailableBankcardCredit', 'LoanOriginalAmount','Recommendations','ProsperScore'"
   ]
  },
  {
   "cell_type": "code",
   "execution_count": 36,
   "metadata": {},
   "outputs": [
    {
     "data": {
      "image/png": "[encoded data removed]",
      "text/plain": [
       "<matplotlib.figure.Figure at 0x7fe250eb86a0>"
      ]
     },
     "metadata": {
      "needs_background": "light"
     },
     "output_type": "display_data"
    }
   ],
   "source": [
    "scatterplot('ProsperScore', 'StatedMonthlyIncome')"
   ]
  },
  {
   "cell_type": "code",
   "execution_count": 37,
   "metadata": {},
   "outputs": [
    {
     "data": {
      "image/png": "[encoded data removed]",
      "text/plain": [
       "<matplotlib.figure.Figure at 0x7fe250efaf60>"
      ]
     },
     "metadata": {
      "needs_background": "light"
     },
     "output_type": "display_data"
    }
   ],
   "source": [
    "scatterplot('ProsperScore', 'EmploymentStatusDuration')"
   ]
  },
  {
   "cell_type": "code",
   "execution_count": 38,
   "metadata": {},
   "outputs": [
    {
     "data": {
      "image/png": "[encoded data removed]",
      "text/plain": [
       "<matplotlib.figure.Figure at 0x7fe2512ecac8>"
      ]
     },
     "metadata": {
      "needs_background": "light"
     },
     "output_type": "display_data"
    }
   ],
   "source": [
    "scatterplot('ProsperScore', 'AmountDelinquent')"
   ]
  },
  {
   "cell_type": "code",
   "execution_count": 39,
   "metadata": {
    "scrolled": false
   },
   "outputs": [
    {
     "data": {
      "image/png": "[encoded data removed]",
      "text/plain": [
       "<matplotlib.figure.Figure at 0x7fe2503eeac8>"
      ]
     },
     "metadata": {
      "needs_background": "light"
     },
     "output_type": "display_data"
    }
   ],
   "source": [
    "scatterplot('ProsperScore', 'AvailableBankcardCredit')"
   ]
  },
  {
   "cell_type": "code",
   "execution_count": 40,
   "metadata": {
    "scrolled": false
   },
   "outputs": [
    {
     "data": {
      "image/png": "[encoded data removed]",
      "text/plain": [
       "<matplotlib.figure.Figure at 0x7fe24d715630>"
      ]
     },
     "metadata": {
      "needs_background": "light"
     },
     "output_type": "display_data"
    }
   ],
   "source": [
    "scatterplot('ProsperScore', 'LoanOriginalAmount')"
   ]
  },
  {
   "cell_type": "code",
   "execution_count": 41,
   "metadata": {
    "scrolled": false
   },
   "outputs": [
    {
     "data": {
      "image/png": "[encoded data removed]",
      "text/plain": [
       "<matplotlib.figure.Figure at 0x7fe24d720358>"
      ]
     },
     "metadata": {
      "needs_background": "light"
     },
     "output_type": "display_data"
    }
   ],
   "source": [
    "scatterplot('ProsperScore', 'Recommendations')"
   ]
  },
  {
   "cell_type": "markdown",
   "metadata": {},
   "source": [
    "> Only **AvailableBankcardCredit** only **LoanOriginalAmount** shows a clear and positive correlation with **ProsperScore**. The others seems to show a weak correlation with the target variable. **AmountDelinquent** apparently have the negative correlation with **ProsperScore** because the regression fit line moves little bit downward from left to right."
   ]
  },
  {
   "cell_type": "markdown",
   "metadata": {},
   "source": [
    "> I want to investigate the relationship between two strongest factor, **AvailableBankcardCredit** vs **LoanOriginalAmount**"
   ]
  },
  {
   "cell_type": "markdown",
   "metadata": {},
   "source": [
    "#### AvailableBankcardCredit vs LoanOriginalAmount"
   ]
  },
  {
   "cell_type": "code",
   "execution_count": 42,
   "metadata": {
    "scrolled": true
   },
   "outputs": [
    {
     "data": {
      "image/png": "[encoded data removed]",
      "text/plain": [
       "<matplotlib.figure.Figure at 0x7fe24ccbc1d0>"
      ]
     },
     "metadata": {
      "needs_background": "light"
     },
     "output_type": "display_data"
    }
   ],
   "source": [
    "scatterplot('AvailableBankcardCredit', 'LoanOriginalAmount')"
   ]
  },
  {
   "cell_type": "markdown",
   "metadata": {},
   "source": [
    "### Talk about some of the relationships you observed in this part of the investigation. How did the feature(s) of interest vary with other features in the dataset?\n",
    "\n",
    "> All of features demonstrate positive relationship with **ProsperScore**, except for **EmployeeStatusDuration** and **AmountDelinquent**. **AvailableBankcardCredit** and **LoanOriginalAmount** indeed has a positive relationship with target feature. But in general, there is pretty weak correlation between selected columns with **ProsperScore**.\n",
    "\n",
    "### Did you observe any interesting relationships between the other features (not the main feature(s) of interest)?\n",
    "\n",
    "> The magnitude of correlation between **AvailableBankcardCredit** and **LoanOriginalAmount** is noticable. This relationship is apparently stronger than their relationship with the target **ProsperScore**. This could cause a problem of multicollinearity when buidling a predictive model (e.g Linear Regression)"
   ]
  },
  {
   "cell_type": "markdown",
   "metadata": {},
   "source": [
    "<a id='multianalysis'></a>\n",
    "\n",
    "## 5. Multivariate Exploratory Analysis"
   ]
  },
  {
   "cell_type": "code",
   "execution_count": 1,
   "metadata": {},
   "outputs": [],
   "source": [
    "numeric_vars = ['StatedMonthlyIncome', 'EmploymentStatusDuration','AmountDelinquent','AvailableBankcardCredit', 'LoanOriginalAmount','Recommendations','ProsperScore']\n",
    "categoric_vars = ['ListingCategory (numeric)']"
   ]
  },
  {
   "cell_type": "markdown",
   "metadata": {},
   "source": [
    "####  Correlation heat map"
   ]
  },
  {
   "cell_type": "code",
   "execution_count": 44,
   "metadata": {
    "scrolled": false
   },
   "outputs": [
    {
     "data": {
      "image/png": "[encoded data removed]",
      "text/plain": [
       "<matplotlib.figure.Figure at 0x7fe24d732b70>"
      ]
     },
     "metadata": {
      "needs_background": "light"
     },
     "output_type": "display_data"
    }
   ],
   "source": [
    "plt.figure(figsize = [8, 5])\n",
    "sb.heatmap(data[numeric_vars].corr(), annot = True, fmt = '.3f',\n",
    "           cmap = 'vlag_r', center = 0)\n",
    "plt.show()"
   ]
  },
  {
   "cell_type": "markdown",
   "metadata": {},
   "source": [
    "> All of numeric variables shows a weak relationship with the target variable (**Prosper Score**). **Bank credit** and **Original loan** demonstrates the strongest correlationship with **Prosper Score**. The relationship between these two variables is also noticeable. **Employment duration** and **Delinquent amount** presents very weak and negative relationship with **Prosper Score**."
   ]
  },
  {
   "cell_type": "markdown",
   "metadata": {},
   "source": [
    "### Talk about some of the relationships you observed in this part of the investigation. Were there features that strengthened each other in terms of looking at your feature(s) of interest?\n",
    "\n",
    "> The multivariate analysis shows results simliar to what I expected from bivarate exploration. \n",
    "\n",
    "### Were there any interesting or surprising interactions between features?\n",
    "\n",
    "> Although all features share a weak relationship with target ProsperScore, I still want to run a Regression Analysis to discover more the effect as well as signifcance of these features in predicting the final score from Prosper."
   ]
  },
  {
   "cell_type": "markdown",
   "metadata": {},
   "source": [
    "<a id='reanalysis'></a>\n",
    "\n",
    "## 6. Regression Analysis "
   ]
  },
  {
   "cell_type": "code",
   "execution_count": 45,
   "metadata": {},
   "outputs": [
    {
     "name": "stderr",
     "output_type": "stream",
     "text": [
      "/opt/conda/lib/python3.6/site-packages/statsmodels/compat/pandas.py:56: FutureWarning: The pandas.core.datetools module is deprecated and will be removed in a future version. Please use the pandas.tseries module instead.\n",
      "  from pandas.core import datetools\n"
     ]
    }
   ],
   "source": [
    "import statsmodels.api as sm\n",
    "from sklearn.datasets import load_boston"
   ]
  },
  {
   "cell_type": "code",
   "execution_count": 46,
   "metadata": {
    "scrolled": false
   },
   "outputs": [
    {
     "data": {
      "text/html": [
       "<table class=\"simpletable\">\n",
       "<caption>OLS Regression Results</caption>\n",
       "<tr>\n",
       "  <th>Dep. Variable:</th>      <td>ProsperScore</td>   <th>  R-squared:         </th>  <td>   0.124</td>  \n",
       "</tr>\n",
       "<tr>\n",
       "  <th>Model:</th>                   <td>OLS</td>       <th>  Adj. R-squared:    </th>  <td>   0.124</td>  \n",
       "</tr>\n",
       "<tr>\n",
       "  <th>Method:</th>             <td>Least Squares</td>  <th>  F-statistic:       </th>  <td>   1967.</td>  \n",
       "</tr>\n",
       "<tr>\n",
       "  <th>Date:</th>             <td>Tue, 01 Mar 2022</td> <th>  Prob (F-statistic):</th>   <td>  0.00</td>   \n",
       "</tr>\n",
       "<tr>\n",
       "  <th>Time:</th>                 <td>11:21:00</td>     <th>  Log-Likelihood:    </th> <td>-1.8226e+05</td>\n",
       "</tr>\n",
       "<tr>\n",
       "  <th>No. Observations:</th>      <td> 83378</td>      <th>  AIC:               </th>  <td>3.645e+05</td> \n",
       "</tr>\n",
       "<tr>\n",
       "  <th>Df Residuals:</th>          <td> 83371</td>      <th>  BIC:               </th>  <td>3.646e+05</td> \n",
       "</tr>\n",
       "<tr>\n",
       "  <th>Df Model:</th>              <td>     6</td>      <th>                     </th>      <td> </td>     \n",
       "</tr>\n",
       "<tr>\n",
       "  <th>Covariance Type:</th>      <td>nonrobust</td>    <th>                     </th>      <td> </td>     \n",
       "</tr>\n",
       "</table>\n",
       "<table class=\"simpletable\">\n",
       "<tr>\n",
       "              <td></td>                <th>coef</th>     <th>std err</th>      <th>t</th>      <th>P>|t|</th>  <th>[0.025</th>    <th>0.975]</th>  \n",
       "</tr>\n",
       "<tr>\n",
       "  <th>intercept</th>                <td>    4.9464</td> <td>    0.015</td> <td>  320.770</td> <td> 0.000</td> <td>    4.916</td> <td>    4.977</td>\n",
       "</tr>\n",
       "<tr>\n",
       "  <th>StatedMonthlyIncome</th>      <td> 5.979e-06</td> <td> 9.18e-07</td> <td>    6.516</td> <td> 0.000</td> <td> 4.18e-06</td> <td> 7.78e-06</td>\n",
       "</tr>\n",
       "<tr>\n",
       "  <th>EmploymentStatusDuration</th> <td>   -0.0009</td> <td> 7.72e-05</td> <td>  -11.507</td> <td> 0.000</td> <td>   -0.001</td> <td>   -0.001</td>\n",
       "</tr>\n",
       "<tr>\n",
       "  <th>AmountDelinquent</th>         <td> -9.98e-06</td> <td>    1e-06</td> <td>   -9.983</td> <td> 0.000</td> <td>-1.19e-05</td> <td>-8.02e-06</td>\n",
       "</tr>\n",
       "<tr>\n",
       "  <th>AvailableBankcardCredit</th>  <td> 3.185e-05</td> <td> 4.26e-07</td> <td>   74.754</td> <td> 0.000</td> <td>  3.1e-05</td> <td> 3.27e-05</td>\n",
       "</tr>\n",
       "<tr>\n",
       "  <th>LoanOriginalAmount</th>       <td> 6.967e-05</td> <td> 1.26e-06</td> <td>   55.416</td> <td> 0.000</td> <td> 6.72e-05</td> <td> 7.21e-05</td>\n",
       "</tr>\n",
       "<tr>\n",
       "  <th>Recommendations</th>          <td>    0.3087</td> <td>    0.040</td> <td>    7.762</td> <td> 0.000</td> <td>    0.231</td> <td>    0.387</td>\n",
       "</tr>\n",
       "</table>\n",
       "<table class=\"simpletable\">\n",
       "<tr>\n",
       "  <th>Omnibus:</th>       <td>3123.076</td> <th>  Durbin-Watson:     </th> <td>   2.012</td> \n",
       "</tr>\n",
       "<tr>\n",
       "  <th>Prob(Omnibus):</th>  <td> 0.000</td>  <th>  Jarque-Bera (JB):  </th> <td>1395.691</td> \n",
       "</tr>\n",
       "<tr>\n",
       "  <th>Skew:</th>           <td>-0.046</td>  <th>  Prob(JB):          </th> <td>8.50e-304</td>\n",
       "</tr>\n",
       "<tr>\n",
       "  <th>Kurtosis:</th>       <td> 2.373</td>  <th>  Cond. No.          </th> <td>1.21e+05</td> \n",
       "</tr>\n",
       "</table>"
      ],
      "text/plain": [
       "<class 'statsmodels.iolib.summary.Summary'>\n",
       "\"\"\"\n",
       "                            OLS Regression Results                            \n",
       "==============================================================================\n",
       "Dep. Variable:           ProsperScore   R-squared:                       0.124\n",
       "Model:                            OLS   Adj. R-squared:                  0.124\n",
       "Method:                 Least Squares   F-statistic:                     1967.\n",
       "Date:                Tue, 01 Mar 2022   Prob (F-statistic):               0.00\n",
       "Time:                        11:21:00   Log-Likelihood:            -1.8226e+05\n",
       "No. Observations:               83378   AIC:                         3.645e+05\n",
       "Df Residuals:                   83371   BIC:                         3.646e+05\n",
       "Df Model:                           6                                         \n",
       "Covariance Type:            nonrobust                                         \n",
       "============================================================================================\n",
       "                               coef    std err          t      P>|t|      [0.025      0.975]\n",
       "--------------------------------------------------------------------------------------------\n",
       "intercept                    4.9464      0.015    320.770      0.000       4.916       4.977\n",
       "StatedMonthlyIncome       5.979e-06   9.18e-07      6.516      0.000    4.18e-06    7.78e-06\n",
       "EmploymentStatusDuration    -0.0009   7.72e-05    -11.507      0.000      -0.001      -0.001\n",
       "AmountDelinquent          -9.98e-06      1e-06     -9.983      0.000   -1.19e-05   -8.02e-06\n",
       "AvailableBankcardCredit   3.185e-05   4.26e-07     74.754      0.000     3.1e-05    3.27e-05\n",
       "LoanOriginalAmount        6.967e-05   1.26e-06     55.416      0.000    6.72e-05    7.21e-05\n",
       "Recommendations              0.3087      0.040      7.762      0.000       0.231       0.387\n",
       "==============================================================================\n",
       "Omnibus:                     3123.076   Durbin-Watson:                   2.012\n",
       "Prob(Omnibus):                  0.000   Jarque-Bera (JB):             1395.691\n",
       "Skew:                          -0.046   Prob(JB):                    8.50e-304\n",
       "Kurtosis:                       2.373   Cond. No.                     1.21e+05\n",
       "==============================================================================\n",
       "\n",
       "Warnings:\n",
       "[1] Standard Errors assume that the covariance matrix of the errors is correctly specified.\n",
       "[2] The condition number is large, 1.21e+05. This might indicate that there are\n",
       "strong multicollinearity or other numerical problems.\n",
       "\"\"\""
      ]
     },
     "execution_count": 46,
     "metadata": {},
     "output_type": "execute_result"
    }
   ],
   "source": [
    "# Create a constant variable\n",
    "data['intercept']=1\n",
    "\n",
    "# Fit Regression Model\n",
    "ml = sm.OLS(data['ProsperScore'], data[['intercept', 'StatedMonthlyIncome', 'EmploymentStatusDuration','AmountDelinquent','AvailableBankcardCredit', 'LoanOriginalAmount','Recommendations']])\n",
    "\n",
    "results = ml.fit()\n",
    "\n",
    "results.summary()"
   ]
  },
  {
   "cell_type": "code",
   "execution_count": 57,
   "metadata": {},
   "outputs": [
    {
     "data": {
      "text/html": [
       "<div>\n",
       "<style scoped>\n",
       "    .dataframe tbody tr th:only-of-type {\n",
       "        vertical-align: middle;\n",
       "    }\n",
       "\n",
       "    .dataframe tbody tr th {\n",
       "        vertical-align: top;\n",
       "    }\n",
       "\n",
       "    .dataframe thead th {\n",
       "        text-align: right;\n",
       "    }\n",
       "</style>\n",
       "<table border=\"1\" class=\"dataframe\">\n",
       "  <thead>\n",
       "    <tr style=\"text-align: right;\">\n",
       "      <th></th>\n",
       "      <th>coef</th>\n",
       "      <th>std err</th>\n",
       "      <th>t</th>\n",
       "      <th>P&gt;|t|</th>\n",
       "      <th>[0.025</th>\n",
       "      <th>0.975]</th>\n",
       "    </tr>\n",
       "  </thead>\n",
       "  <tbody>\n",
       "    <tr>\n",
       "      <th>intercept</th>\n",
       "      <td>4.946400</td>\n",
       "      <td>1.500000e-02</td>\n",
       "      <td>320.770</td>\n",
       "      <td>0.0</td>\n",
       "      <td>4.916000</td>\n",
       "      <td>4.977000</td>\n",
       "    </tr>\n",
       "    <tr>\n",
       "      <th>StatedMonthlyIncome</th>\n",
       "      <td>0.000006</td>\n",
       "      <td>9.180000e-07</td>\n",
       "      <td>6.516</td>\n",
       "      <td>0.0</td>\n",
       "      <td>0.000004</td>\n",
       "      <td>0.000008</td>\n",
       "    </tr>\n",
       "    <tr>\n",
       "      <th>EmploymentStatusDuration</th>\n",
       "      <td>-0.000900</td>\n",
       "      <td>7.720000e-05</td>\n",
       "      <td>-11.507</td>\n",
       "      <td>0.0</td>\n",
       "      <td>-0.001000</td>\n",
       "      <td>-0.001000</td>\n",
       "    </tr>\n",
       "    <tr>\n",
       "      <th>AmountDelinquent</th>\n",
       "      <td>-0.000010</td>\n",
       "      <td>1.000000e-06</td>\n",
       "      <td>-9.983</td>\n",
       "      <td>0.0</td>\n",
       "      <td>-0.000012</td>\n",
       "      <td>-0.000008</td>\n",
       "    </tr>\n",
       "    <tr>\n",
       "      <th>AvailableBankcardCredit</th>\n",
       "      <td>0.000032</td>\n",
       "      <td>4.260000e-07</td>\n",
       "      <td>74.754</td>\n",
       "      <td>0.0</td>\n",
       "      <td>0.000031</td>\n",
       "      <td>0.000033</td>\n",
       "    </tr>\n",
       "    <tr>\n",
       "      <th>LoanOriginalAmount</th>\n",
       "      <td>0.000070</td>\n",
       "      <td>1.260000e-06</td>\n",
       "      <td>55.416</td>\n",
       "      <td>0.0</td>\n",
       "      <td>0.000067</td>\n",
       "      <td>0.000072</td>\n",
       "    </tr>\n",
       "    <tr>\n",
       "      <th>Recommendations</th>\n",
       "      <td>0.308700</td>\n",
       "      <td>4.000000e-02</td>\n",
       "      <td>7.762</td>\n",
       "      <td>0.0</td>\n",
       "      <td>0.231000</td>\n",
       "      <td>0.387000</td>\n",
       "    </tr>\n",
       "  </tbody>\n",
       "</table>\n",
       "</div>"
      ],
      "text/plain": [
       "                              coef       std err        t  P>|t|    [0.025  \\\n",
       "intercept                 4.946400  1.500000e-02  320.770    0.0  4.916000   \n",
       "StatedMonthlyIncome       0.000006  9.180000e-07    6.516    0.0  0.000004   \n",
       "EmploymentStatusDuration -0.000900  7.720000e-05  -11.507    0.0 -0.001000   \n",
       "AmountDelinquent         -0.000010  1.000000e-06   -9.983    0.0 -0.000012   \n",
       "AvailableBankcardCredit   0.000032  4.260000e-07   74.754    0.0  0.000031   \n",
       "LoanOriginalAmount        0.000070  1.260000e-06   55.416    0.0  0.000067   \n",
       "Recommendations           0.308700  4.000000e-02    7.762    0.0  0.231000   \n",
       "\n",
       "                            0.975]  \n",
       "intercept                 4.977000  \n",
       "StatedMonthlyIncome       0.000008  \n",
       "EmploymentStatusDuration -0.001000  \n",
       "AmountDelinquent         -0.000008  \n",
       "AvailableBankcardCredit   0.000033  \n",
       "LoanOriginalAmount        0.000072  \n",
       "Recommendations           0.387000  "
      ]
     },
     "execution_count": 57,
     "metadata": {},
     "output_type": "execute_result"
    }
   ],
   "source": [
    "#Create a table to store summary results\n",
    "result_table = pd.read_html(results.summary().tables[1].as_html(),header=0,index_col=0)[0]\n",
    "result_table"
   ]
  },
  {
   "cell_type": "code",
   "execution_count": 69,
   "metadata": {
    "scrolled": true
   },
   "outputs": [],
   "source": [
    "# Extract coefficience data\n",
    "coef = result_table['coef'].sort_values()"
   ]
  },
  {
   "cell_type": "code",
   "execution_count": 70,
   "metadata": {
    "scrolled": false
   },
   "outputs": [
    {
     "data": {
      "text/plain": [
       "Text(0.5,1,'Coefficent score of all variables')"
      ]
     },
     "execution_count": 70,
     "metadata": {},
     "output_type": "execute_result"
    },
    {
     "data": {
      "image/png": "[encoded data removed]",
      "text/plain": [
       "<matplotlib.figure.Figure at 0x7fe24d843c18>"
      ]
     },
     "metadata": {
      "needs_background": "light"
     },
     "output_type": "display_data"
    }
   ],
   "source": [
    "# Visualize coefficient reuslt.\n",
    "coef.drop('intercept', axis=0).plot(kind='bar', color=base_color)\n",
    "plt.ylabel('Coefficient score')\n",
    "plt.title('Coefficent score of all variables')"
   ]
  },
  {
   "cell_type": "markdown",
   "metadata": {},
   "source": [
    "> Interestingly, Recommendations have the strongest correlation with target Prosper Score. However, overall, the predictive model based on Linear Regression is relatively indeficient when its R_squared value is only 0.124"
   ]
  },
  {
   "cell_type": "markdown",
   "metadata": {},
   "source": [
    "<a id='conclusion'></a>\n",
    "\n",
    "## 7. Conclusions\n",
    "> There are very few borrowers received the lowest credit score (1) from ProsperScore. The number of people getting the highest score (10) takes the penultimate rank. Borrowers with score above 5 make up two third of the total population.\n",
    "\n",
    "> Most of peoples mentions \"Baby & Adoption\" when they ask a loan from Prosper.\n",
    "\n",
    "> In general, all chosen variables make up a very weak model to predict final ProsperScore. When considering seperately, AvailableBankcardCredit only LoanOriginalAmount shows the strongest positive correlation with ProsperScore. However, when all variables are considered together under a Regression Model, Recommendations ranks first in the coefficent index. \n"
   ]
  }
 ],
 "metadata": {
  "kernelspec": {
   "display_name": "Python 3 (ipykernel)",
   "language": "python",
   "name": "python3"
  },
  "language_info": {
   "codemirror_mode": {
    "name": "ipython",
    "version": 3
   },
   "file_extension": ".py",
   "mimetype": "text/x-python",
   "name": "python",
   "nbconvert_exporter": "python",
   "pygments_lexer": "ipython3",
   "version": "3.8.12"
  }
 },
 "nbformat": 4,
 "nbformat_minor": 2
}
